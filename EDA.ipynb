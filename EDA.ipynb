{
 "cells": [
  {
   "cell_type": "markdown",
   "metadata": {},
   "source": [
    "Importamos las librerias necesarias"
   ]
  },
  {
   "cell_type": "code",
   "execution_count": 256,
   "metadata": {},
   "outputs": [],
   "source": [
    "import pandas as pd\n",
    "import numpy as np\n",
    "import matplotlib.pyplot as plt\n",
    "import seaborn as sns\n"
   ]
  },
  {
   "cell_type": "markdown",
   "metadata": {},
   "source": [
    "Leemos el csv"
   ]
  },
  {
   "cell_type": "code",
   "execution_count": 257,
   "metadata": {},
   "outputs": [],
   "source": [
    "df_Accidentes = pd.read_csv('AccidentesAviones.csv')"
   ]
  },
  {
   "cell_type": "markdown",
   "metadata": {},
   "source": [
    "Reemplazamos ? por NA asi poder trabajar los valores"
   ]
  },
  {
   "cell_type": "code",
   "execution_count": 258,
   "metadata": {},
   "outputs": [],
   "source": [
    "df_Accidentes.replace(\"?\", pd.NA, inplace=True)"
   ]
  },
  {
   "cell_type": "markdown",
   "metadata": {},
   "source": [
    "Al igual que en las columnas numericas reemplazamos los NA por 0 ya que en algunas columnas los vamores NA superaban la mitad"
   ]
  },
  {
   "cell_type": "code",
   "execution_count": 259,
   "metadata": {},
   "outputs": [],
   "source": [
    "# Lista de columnas numéricas en las que deseas reemplazar <NA> con 0\n",
    "columnas_numericas = ['HORA declarada', 'flight_no', 'cn_ln', 'all_aboard', 'PASAJEROS A BORDO', 'crew_aboard', 'cantidad de fallecidos', 'passenger_fatalities', 'crew_fatalities', 'ground']\n",
    "\n",
    "# Reemplazar <NA> con 0 en las columnas numéricas seleccionadas\n",
    "df_Accidentes[columnas_numericas] = df_Accidentes[columnas_numericas].fillna(0)"
   ]
  },
  {
   "cell_type": "markdown",
   "metadata": {},
   "source": [
    "Visualizamos las primeras filas del df"
   ]
  },
  {
   "cell_type": "code",
   "execution_count": 260,
   "metadata": {},
   "outputs": [
    {
     "data": {
      "text/html": [
       "<div>\n",
       "<style scoped>\n",
       "    .dataframe tbody tr th:only-of-type {\n",
       "        vertical-align: middle;\n",
       "    }\n",
       "\n",
       "    .dataframe tbody tr th {\n",
       "        vertical-align: top;\n",
       "    }\n",
       "\n",
       "    .dataframe thead th {\n",
       "        text-align: right;\n",
       "    }\n",
       "</style>\n",
       "<table border=\"1\" class=\"dataframe\">\n",
       "  <thead>\n",
       "    <tr style=\"text-align: right;\">\n",
       "      <th></th>\n",
       "      <th>Unnamed: 0</th>\n",
       "      <th>fecha</th>\n",
       "      <th>HORA declarada</th>\n",
       "      <th>Ruta</th>\n",
       "      <th>OperadOR</th>\n",
       "      <th>flight_no</th>\n",
       "      <th>route</th>\n",
       "      <th>ac_type</th>\n",
       "      <th>registration</th>\n",
       "      <th>cn_ln</th>\n",
       "      <th>all_aboard</th>\n",
       "      <th>PASAJEROS A BORDO</th>\n",
       "      <th>crew_aboard</th>\n",
       "      <th>cantidad de fallecidos</th>\n",
       "      <th>passenger_fatalities</th>\n",
       "      <th>crew_fatalities</th>\n",
       "      <th>ground</th>\n",
       "      <th>summary</th>\n",
       "    </tr>\n",
       "  </thead>\n",
       "  <tbody>\n",
       "    <tr>\n",
       "      <th>0</th>\n",
       "      <td>0</td>\n",
       "      <td>September 17, 1908</td>\n",
       "      <td>1718</td>\n",
       "      <td>Fort Myer, Virginia</td>\n",
       "      <td>Military - U.S. Army</td>\n",
       "      <td>0</td>\n",
       "      <td>Demonstration</td>\n",
       "      <td>Wright Flyer III</td>\n",
       "      <td>&lt;NA&gt;</td>\n",
       "      <td>1</td>\n",
       "      <td>2</td>\n",
       "      <td>1</td>\n",
       "      <td>1</td>\n",
       "      <td>1</td>\n",
       "      <td>1</td>\n",
       "      <td>0</td>\n",
       "      <td>0</td>\n",
       "      <td>During a demonstration flight, a U.S. Army fly...</td>\n",
       "    </tr>\n",
       "    <tr>\n",
       "      <th>1</th>\n",
       "      <td>1</td>\n",
       "      <td>September 07, 1909</td>\n",
       "      <td>0</td>\n",
       "      <td>Juvisy-sur-Orge, France</td>\n",
       "      <td>&lt;NA&gt;</td>\n",
       "      <td>0</td>\n",
       "      <td>Air show</td>\n",
       "      <td>Wright Byplane</td>\n",
       "      <td>SC1</td>\n",
       "      <td>0</td>\n",
       "      <td>1</td>\n",
       "      <td>0</td>\n",
       "      <td>1</td>\n",
       "      <td>1</td>\n",
       "      <td>0</td>\n",
       "      <td>0</td>\n",
       "      <td>0</td>\n",
       "      <td>Eugene Lefebvre was the first pilot to ever be...</td>\n",
       "    </tr>\n",
       "    <tr>\n",
       "      <th>2</th>\n",
       "      <td>2</td>\n",
       "      <td>July 12, 1912</td>\n",
       "      <td>0630</td>\n",
       "      <td>Atlantic City, New Jersey</td>\n",
       "      <td>Military - U.S. Navy</td>\n",
       "      <td>0</td>\n",
       "      <td>Test flight</td>\n",
       "      <td>Dirigible</td>\n",
       "      <td>&lt;NA&gt;</td>\n",
       "      <td>0</td>\n",
       "      <td>5</td>\n",
       "      <td>0</td>\n",
       "      <td>5</td>\n",
       "      <td>5</td>\n",
       "      <td>0</td>\n",
       "      <td>5</td>\n",
       "      <td>0</td>\n",
       "      <td>First U.S. dirigible Akron exploded just offsh...</td>\n",
       "    </tr>\n",
       "    <tr>\n",
       "      <th>3</th>\n",
       "      <td>3</td>\n",
       "      <td>August 06, 1913</td>\n",
       "      <td>0</td>\n",
       "      <td>Victoria, British Columbia, Canada</td>\n",
       "      <td>Private</td>\n",
       "      <td>0</td>\n",
       "      <td>&lt;NA&gt;</td>\n",
       "      <td>Curtiss seaplane</td>\n",
       "      <td>&lt;NA&gt;</td>\n",
       "      <td>0</td>\n",
       "      <td>1</td>\n",
       "      <td>0</td>\n",
       "      <td>1</td>\n",
       "      <td>1</td>\n",
       "      <td>0</td>\n",
       "      <td>1</td>\n",
       "      <td>0</td>\n",
       "      <td>The first fatal airplane accident in Canada oc...</td>\n",
       "    </tr>\n",
       "    <tr>\n",
       "      <th>4</th>\n",
       "      <td>4</td>\n",
       "      <td>September 09, 1913</td>\n",
       "      <td>1830</td>\n",
       "      <td>Over the North Sea</td>\n",
       "      <td>Military - German Navy</td>\n",
       "      <td>0</td>\n",
       "      <td>&lt;NA&gt;</td>\n",
       "      <td>Zeppelin L-1 (airship)</td>\n",
       "      <td>&lt;NA&gt;</td>\n",
       "      <td>0</td>\n",
       "      <td>20</td>\n",
       "      <td>0</td>\n",
       "      <td>0</td>\n",
       "      <td>14</td>\n",
       "      <td>0</td>\n",
       "      <td>0</td>\n",
       "      <td>0</td>\n",
       "      <td>The airship flew into a thunderstorm and encou...</td>\n",
       "    </tr>\n",
       "  </tbody>\n",
       "</table>\n",
       "</div>"
      ],
      "text/plain": [
       "   Unnamed: 0               fecha HORA declarada  \\\n",
       "0           0  September 17, 1908           1718   \n",
       "1           1  September 07, 1909              0   \n",
       "2           2       July 12, 1912           0630   \n",
       "3           3     August 06, 1913              0   \n",
       "4           4  September 09, 1913           1830   \n",
       "\n",
       "                                 Ruta                OperadOR flight_no  \\\n",
       "0                 Fort Myer, Virginia    Military - U.S. Army         0   \n",
       "1             Juvisy-sur-Orge, France                    <NA>         0   \n",
       "2           Atlantic City, New Jersey    Military - U.S. Navy         0   \n",
       "3  Victoria, British Columbia, Canada                 Private         0   \n",
       "4                  Over the North Sea  Military - German Navy         0   \n",
       "\n",
       "           route                 ac_type registration cn_ln all_aboard  \\\n",
       "0  Demonstration        Wright Flyer III         <NA>     1          2   \n",
       "1       Air show          Wright Byplane          SC1     0          1   \n",
       "2    Test flight               Dirigible         <NA>     0          5   \n",
       "3           <NA>        Curtiss seaplane         <NA>     0          1   \n",
       "4           <NA>  Zeppelin L-1 (airship)         <NA>     0         20   \n",
       "\n",
       "  PASAJEROS A BORDO crew_aboard cantidad de fallecidos passenger_fatalities  \\\n",
       "0                 1           1                      1                    1   \n",
       "1                 0           1                      1                    0   \n",
       "2                 0           5                      5                    0   \n",
       "3                 0           1                      1                    0   \n",
       "4                 0           0                     14                    0   \n",
       "\n",
       "  crew_fatalities ground                                            summary  \n",
       "0               0      0  During a demonstration flight, a U.S. Army fly...  \n",
       "1               0      0  Eugene Lefebvre was the first pilot to ever be...  \n",
       "2               5      0  First U.S. dirigible Akron exploded just offsh...  \n",
       "3               1      0  The first fatal airplane accident in Canada oc...  \n",
       "4               0      0  The airship flew into a thunderstorm and encou...  "
      ]
     },
     "execution_count": 260,
     "metadata": {},
     "output_type": "execute_result"
    }
   ],
   "source": [
    "df_Accidentes.head()"
   ]
  },
  {
   "cell_type": "markdown",
   "metadata": {},
   "source": [
    "Utilizamos '.info()' para saber como estan indentificadas las columnas"
   ]
  },
  {
   "cell_type": "code",
   "execution_count": 261,
   "metadata": {},
   "outputs": [
    {
     "name": "stdout",
     "output_type": "stream",
     "text": [
      "<class 'pandas.core.frame.DataFrame'>\n",
      "RangeIndex: 5008 entries, 0 to 5007\n",
      "Data columns (total 18 columns):\n",
      " #   Column                  Non-Null Count  Dtype \n",
      "---  ------                  --------------  ----- \n",
      " 0   Unnamed: 0              5008 non-null   int64 \n",
      " 1   fecha                   5008 non-null   object\n",
      " 2   HORA declarada          5008 non-null   object\n",
      " 3   Ruta                    5003 non-null   object\n",
      " 4   OperadOR                4998 non-null   object\n",
      " 5   flight_no               5008 non-null   object\n",
      " 6   route                   4246 non-null   object\n",
      " 7   ac_type                 4995 non-null   object\n",
      " 8   registration            4736 non-null   object\n",
      " 9   cn_ln                   5008 non-null   object\n",
      " 10  all_aboard              5008 non-null   object\n",
      " 11  PASAJEROS A BORDO       5008 non-null   object\n",
      " 12  crew_aboard             5008 non-null   object\n",
      " 13  cantidad de fallecidos  5008 non-null   object\n",
      " 14  passenger_fatalities    5008 non-null   object\n",
      " 15  crew_fatalities         5008 non-null   object\n",
      " 16  ground                  5008 non-null   object\n",
      " 17  summary                 4949 non-null   object\n",
      "dtypes: int64(1), object(17)\n",
      "memory usage: 704.4+ KB\n"
     ]
    }
   ],
   "source": [
    "df_Accidentes.info()"
   ]
  },
  {
   "cell_type": "markdown",
   "metadata": {},
   "source": [
    "Al ver que algunas columnas no tienen el datatype adecuado intentamos corregirlo"
   ]
  },
  {
   "cell_type": "code",
   "execution_count": 262,
   "metadata": {},
   "outputs": [],
   "source": [
    "df_Accidentes['fecha'] = pd.to_datetime(df_Accidentes['fecha'], format='%B %d, %Y').dt.strftime('%d-%m-%Y')"
   ]
  },
  {
   "cell_type": "code",
   "execution_count": 263,
   "metadata": {},
   "outputs": [],
   "source": [
    "# Convertir la columna 'HORA declarada' al formato '%H%M'\n",
    "df_Accidentes['HORA declarada'] = pd.to_datetime(df_Accidentes['HORA declarada'], format='%H%M', errors='coerce').dt.strftime('%H:%M')"
   ]
  },
  {
   "cell_type": "code",
   "execution_count": 264,
   "metadata": {},
   "outputs": [],
   "source": [
    "df_Accidentes['all_aboard'] = df_Accidentes['all_aboard'].astype('int64')"
   ]
  },
  {
   "cell_type": "code",
   "execution_count": 265,
   "metadata": {},
   "outputs": [],
   "source": [
    "df_Accidentes['PASAJEROS A BORDO'] = df_Accidentes['PASAJEROS A BORDO'].astype('int64')"
   ]
  },
  {
   "cell_type": "code",
   "execution_count": 266,
   "metadata": {},
   "outputs": [],
   "source": [
    "df_Accidentes['cantidad de fallecidos'] = df_Accidentes['cantidad de fallecidos'].astype('int64')"
   ]
  },
  {
   "cell_type": "code",
   "execution_count": 267,
   "metadata": {},
   "outputs": [],
   "source": [
    "df_Accidentes['crew_aboard'] = df_Accidentes['crew_aboard'].astype('int64')"
   ]
  },
  {
   "cell_type": "code",
   "execution_count": 268,
   "metadata": {},
   "outputs": [],
   "source": [
    "df_Accidentes['crew_fatalities'] = df_Accidentes['crew_fatalities'].astype('int64')"
   ]
  },
  {
   "cell_type": "code",
   "execution_count": 269,
   "metadata": {},
   "outputs": [],
   "source": [
    "df_Accidentes['passenger_fatalities'] = df_Accidentes['passenger_fatalities'].astype('int64')"
   ]
  },
  {
   "cell_type": "code",
   "execution_count": 270,
   "metadata": {},
   "outputs": [],
   "source": [
    "df_Accidentes['ground'] = df_Accidentes['ground'].astype('int64')"
   ]
  },
  {
   "cell_type": "code",
   "execution_count": 271,
   "metadata": {},
   "outputs": [
    {
     "name": "stdout",
     "output_type": "stream",
     "text": [
      "<class 'pandas.core.frame.DataFrame'>\n",
      "RangeIndex: 5008 entries, 0 to 5007\n",
      "Data columns (total 18 columns):\n",
      " #   Column                  Non-Null Count  Dtype \n",
      "---  ------                  --------------  ----- \n",
      " 0   Unnamed: 0              5008 non-null   int64 \n",
      " 1   fecha                   5008 non-null   object\n",
      " 2   HORA declarada          3287 non-null   object\n",
      " 3   Ruta                    5003 non-null   object\n",
      " 4   OperadOR                4998 non-null   object\n",
      " 5   flight_no               5008 non-null   object\n",
      " 6   route                   4246 non-null   object\n",
      " 7   ac_type                 4995 non-null   object\n",
      " 8   registration            4736 non-null   object\n",
      " 9   cn_ln                   5008 non-null   object\n",
      " 10  all_aboard              5008 non-null   int64 \n",
      " 11  PASAJEROS A BORDO       5008 non-null   int64 \n",
      " 12  crew_aboard             5008 non-null   int64 \n",
      " 13  cantidad de fallecidos  5008 non-null   int64 \n",
      " 14  passenger_fatalities    5008 non-null   int64 \n",
      " 15  crew_fatalities         5008 non-null   int64 \n",
      " 16  ground                  5008 non-null   int64 \n",
      " 17  summary                 4949 non-null   object\n",
      "dtypes: int64(8), object(10)\n",
      "memory usage: 704.4+ KB\n"
     ]
    }
   ],
   "source": [
    "df_Accidentes.info()"
   ]
  },
  {
   "cell_type": "markdown",
   "metadata": {},
   "source": [
    "Renombramos las columnas"
   ]
  },
  {
   "cell_type": "code",
   "execution_count": 272,
   "metadata": {},
   "outputs": [],
   "source": [
    "df_Accidentes = df_Accidentes.rename(columns={\n",
    "    \"Unnamed: 0\": \"ID\",\n",
    "    \"HORA declarada\": \"hora_declarada\",\n",
    "    \"Ruta\": \"Origen_vuelo\",\n",
    "    \"OperadOR\": \"Operador\",\n",
    "    \"flight_no\": \"Numero_de_vuelo\",\n",
    "    \"route\": \"Tipo_vuelo\",\n",
    "    \"ac_type\": \"Tipos_Aeronave\",\n",
    "    \"registration\": \"Registro_aeronave\",\n",
    "    \"cn_ln\": \"Numero_de_serie\",\n",
    "    \"all_aboard\": \"Personas_a_bordo\",\n",
    "    \"PASAJEROS A BORDO\": \"Pasajeros_a_bordo\",\n",
    "    \"crew_aboard\": \"Tripulacion_a_bordo\",\n",
    "    \"cantidad de fallecidos\": \"Total_de_fallecidos\",\n",
    "    \"passenger_fatalities\": \"Pasajeros_fallecidos\",\n",
    "    \"crew_fatalities\": \"Tripulacion_fallecida\",\n",
    "    \"ground\": \"Muertos_en_tirra\",\n",
    "    \"summary\": \"Descripcion_del_evento\"})"
   ]
  },
  {
   "cell_type": "markdown",
   "metadata": {},
   "source": [
    "Revisamos como quedo"
   ]
  },
  {
   "cell_type": "code",
   "execution_count": 273,
   "metadata": {},
   "outputs": [
    {
     "data": {
      "text/html": [
       "<div>\n",
       "<style scoped>\n",
       "    .dataframe tbody tr th:only-of-type {\n",
       "        vertical-align: middle;\n",
       "    }\n",
       "\n",
       "    .dataframe tbody tr th {\n",
       "        vertical-align: top;\n",
       "    }\n",
       "\n",
       "    .dataframe thead th {\n",
       "        text-align: right;\n",
       "    }\n",
       "</style>\n",
       "<table border=\"1\" class=\"dataframe\">\n",
       "  <thead>\n",
       "    <tr style=\"text-align: right;\">\n",
       "      <th></th>\n",
       "      <th>ID</th>\n",
       "      <th>fecha</th>\n",
       "      <th>hora_declarada</th>\n",
       "      <th>Origen_vuelo</th>\n",
       "      <th>Operador</th>\n",
       "      <th>Numero_de_vuelo</th>\n",
       "      <th>Tipo_vuelo</th>\n",
       "      <th>Tipos_Aeronave</th>\n",
       "      <th>Registro_aeronave</th>\n",
       "      <th>Numero_de_serie</th>\n",
       "      <th>Personas_a_bordo</th>\n",
       "      <th>Pasajeros_a_bordo</th>\n",
       "      <th>Tripulacion_a_bordo</th>\n",
       "      <th>Total_de_fallecidos</th>\n",
       "      <th>Pasajeros_fallecidos</th>\n",
       "      <th>Tripulacion_fallecida</th>\n",
       "      <th>Muertos_en_tirra</th>\n",
       "      <th>Descripcion_del_evento</th>\n",
       "    </tr>\n",
       "  </thead>\n",
       "  <tbody>\n",
       "    <tr>\n",
       "      <th>0</th>\n",
       "      <td>0</td>\n",
       "      <td>17-09-1908</td>\n",
       "      <td>17:18</td>\n",
       "      <td>Fort Myer, Virginia</td>\n",
       "      <td>Military - U.S. Army</td>\n",
       "      <td>0</td>\n",
       "      <td>Demonstration</td>\n",
       "      <td>Wright Flyer III</td>\n",
       "      <td>&lt;NA&gt;</td>\n",
       "      <td>1</td>\n",
       "      <td>2</td>\n",
       "      <td>1</td>\n",
       "      <td>1</td>\n",
       "      <td>1</td>\n",
       "      <td>1</td>\n",
       "      <td>0</td>\n",
       "      <td>0</td>\n",
       "      <td>During a demonstration flight, a U.S. Army fly...</td>\n",
       "    </tr>\n",
       "    <tr>\n",
       "      <th>1</th>\n",
       "      <td>1</td>\n",
       "      <td>07-09-1909</td>\n",
       "      <td>NaN</td>\n",
       "      <td>Juvisy-sur-Orge, France</td>\n",
       "      <td>&lt;NA&gt;</td>\n",
       "      <td>0</td>\n",
       "      <td>Air show</td>\n",
       "      <td>Wright Byplane</td>\n",
       "      <td>SC1</td>\n",
       "      <td>0</td>\n",
       "      <td>1</td>\n",
       "      <td>0</td>\n",
       "      <td>1</td>\n",
       "      <td>1</td>\n",
       "      <td>0</td>\n",
       "      <td>0</td>\n",
       "      <td>0</td>\n",
       "      <td>Eugene Lefebvre was the first pilot to ever be...</td>\n",
       "    </tr>\n",
       "    <tr>\n",
       "      <th>2</th>\n",
       "      <td>2</td>\n",
       "      <td>12-07-1912</td>\n",
       "      <td>06:30</td>\n",
       "      <td>Atlantic City, New Jersey</td>\n",
       "      <td>Military - U.S. Navy</td>\n",
       "      <td>0</td>\n",
       "      <td>Test flight</td>\n",
       "      <td>Dirigible</td>\n",
       "      <td>&lt;NA&gt;</td>\n",
       "      <td>0</td>\n",
       "      <td>5</td>\n",
       "      <td>0</td>\n",
       "      <td>5</td>\n",
       "      <td>5</td>\n",
       "      <td>0</td>\n",
       "      <td>5</td>\n",
       "      <td>0</td>\n",
       "      <td>First U.S. dirigible Akron exploded just offsh...</td>\n",
       "    </tr>\n",
       "    <tr>\n",
       "      <th>3</th>\n",
       "      <td>3</td>\n",
       "      <td>06-08-1913</td>\n",
       "      <td>NaN</td>\n",
       "      <td>Victoria, British Columbia, Canada</td>\n",
       "      <td>Private</td>\n",
       "      <td>0</td>\n",
       "      <td>&lt;NA&gt;</td>\n",
       "      <td>Curtiss seaplane</td>\n",
       "      <td>&lt;NA&gt;</td>\n",
       "      <td>0</td>\n",
       "      <td>1</td>\n",
       "      <td>0</td>\n",
       "      <td>1</td>\n",
       "      <td>1</td>\n",
       "      <td>0</td>\n",
       "      <td>1</td>\n",
       "      <td>0</td>\n",
       "      <td>The first fatal airplane accident in Canada oc...</td>\n",
       "    </tr>\n",
       "    <tr>\n",
       "      <th>4</th>\n",
       "      <td>4</td>\n",
       "      <td>09-09-1913</td>\n",
       "      <td>18:30</td>\n",
       "      <td>Over the North Sea</td>\n",
       "      <td>Military - German Navy</td>\n",
       "      <td>0</td>\n",
       "      <td>&lt;NA&gt;</td>\n",
       "      <td>Zeppelin L-1 (airship)</td>\n",
       "      <td>&lt;NA&gt;</td>\n",
       "      <td>0</td>\n",
       "      <td>20</td>\n",
       "      <td>0</td>\n",
       "      <td>0</td>\n",
       "      <td>14</td>\n",
       "      <td>0</td>\n",
       "      <td>0</td>\n",
       "      <td>0</td>\n",
       "      <td>The airship flew into a thunderstorm and encou...</td>\n",
       "    </tr>\n",
       "    <tr>\n",
       "      <th>...</th>\n",
       "      <td>...</td>\n",
       "      <td>...</td>\n",
       "      <td>...</td>\n",
       "      <td>...</td>\n",
       "      <td>...</td>\n",
       "      <td>...</td>\n",
       "      <td>...</td>\n",
       "      <td>...</td>\n",
       "      <td>...</td>\n",
       "      <td>...</td>\n",
       "      <td>...</td>\n",
       "      <td>...</td>\n",
       "      <td>...</td>\n",
       "      <td>...</td>\n",
       "      <td>...</td>\n",
       "      <td>...</td>\n",
       "      <td>...</td>\n",
       "      <td>...</td>\n",
       "    </tr>\n",
       "    <tr>\n",
       "      <th>5003</th>\n",
       "      <td>5003</td>\n",
       "      <td>28-03-2021</td>\n",
       "      <td>18:35</td>\n",
       "      <td>Near Butte, Alaska</td>\n",
       "      <td>Soloy Helicopters</td>\n",
       "      <td>0</td>\n",
       "      <td>Sightseeing Charter</td>\n",
       "      <td>Eurocopter AS350B3 Ecureuil</td>\n",
       "      <td>N351SH</td>\n",
       "      <td>4598</td>\n",
       "      <td>6</td>\n",
       "      <td>5</td>\n",
       "      <td>1</td>\n",
       "      <td>5</td>\n",
       "      <td>4</td>\n",
       "      <td>1</td>\n",
       "      <td>0</td>\n",
       "      <td>The sightseeing helicopter crashed after missi...</td>\n",
       "    </tr>\n",
       "    <tr>\n",
       "      <th>5004</th>\n",
       "      <td>5004</td>\n",
       "      <td>21-05-2021</td>\n",
       "      <td>18:00</td>\n",
       "      <td>Near Kaduna, Nigeria</td>\n",
       "      <td>Military - Nigerian Air Force</td>\n",
       "      <td>0</td>\n",
       "      <td>&lt;NA&gt;</td>\n",
       "      <td>Beechcraft B300 King Air 350i</td>\n",
       "      <td>NAF203</td>\n",
       "      <td>FL-891</td>\n",
       "      <td>11</td>\n",
       "      <td>7</td>\n",
       "      <td>4</td>\n",
       "      <td>11</td>\n",
       "      <td>7</td>\n",
       "      <td>4</td>\n",
       "      <td>0</td>\n",
       "      <td>While on final approach, in poor weather condi...</td>\n",
       "    </tr>\n",
       "    <tr>\n",
       "      <th>5005</th>\n",
       "      <td>5005</td>\n",
       "      <td>10-06-2021</td>\n",
       "      <td>08:00</td>\n",
       "      <td>Near Pyin Oo Lwin, Myanmar</td>\n",
       "      <td>Military - Myanmar Air Force</td>\n",
       "      <td>0</td>\n",
       "      <td>Naypyidaw - Anisakan</td>\n",
       "      <td>Beechcraft 1900D</td>\n",
       "      <td>4610</td>\n",
       "      <td>E-325</td>\n",
       "      <td>14</td>\n",
       "      <td>12</td>\n",
       "      <td>2</td>\n",
       "      <td>12</td>\n",
       "      <td>11</td>\n",
       "      <td>1</td>\n",
       "      <td>0</td>\n",
       "      <td>The plane was carrying military personnel and ...</td>\n",
       "    </tr>\n",
       "    <tr>\n",
       "      <th>5006</th>\n",
       "      <td>5006</td>\n",
       "      <td>04-07-2021</td>\n",
       "      <td>NaN</td>\n",
       "      <td>Patikul, Sulu, Philippines</td>\n",
       "      <td>Military - Philippine Air Force</td>\n",
       "      <td>0</td>\n",
       "      <td>Cagayan de Oro-Lumbia - Jolo</td>\n",
       "      <td>Lockheed C-130H Hercules</td>\n",
       "      <td>5125</td>\n",
       "      <td>5125</td>\n",
       "      <td>96</td>\n",
       "      <td>88</td>\n",
       "      <td>8</td>\n",
       "      <td>50</td>\n",
       "      <td>0</td>\n",
       "      <td>0</td>\n",
       "      <td>3</td>\n",
       "      <td>While attempting to land at Jolo Airport, the ...</td>\n",
       "    </tr>\n",
       "    <tr>\n",
       "      <th>5007</th>\n",
       "      <td>5007</td>\n",
       "      <td>06-07-2021</td>\n",
       "      <td>15:00</td>\n",
       "      <td>Palana, Russia</td>\n",
       "      <td>Kamchatka Aviation Enterprise</td>\n",
       "      <td>251</td>\n",
       "      <td>Petropavlovsk - Palana</td>\n",
       "      <td>Antonov An 26B-100</td>\n",
       "      <td>RA-26085</td>\n",
       "      <td>12310</td>\n",
       "      <td>28</td>\n",
       "      <td>22</td>\n",
       "      <td>6</td>\n",
       "      <td>28</td>\n",
       "      <td>22</td>\n",
       "      <td>6</td>\n",
       "      <td>0</td>\n",
       "      <td>The passenger plane crashed into the top of a ...</td>\n",
       "    </tr>\n",
       "  </tbody>\n",
       "</table>\n",
       "<p>5008 rows × 18 columns</p>\n",
       "</div>"
      ],
      "text/plain": [
       "        ID       fecha hora_declarada                        Origen_vuelo  \\\n",
       "0        0  17-09-1908          17:18                 Fort Myer, Virginia   \n",
       "1        1  07-09-1909            NaN             Juvisy-sur-Orge, France   \n",
       "2        2  12-07-1912          06:30           Atlantic City, New Jersey   \n",
       "3        3  06-08-1913            NaN  Victoria, British Columbia, Canada   \n",
       "4        4  09-09-1913          18:30                  Over the North Sea   \n",
       "...    ...         ...            ...                                 ...   \n",
       "5003  5003  28-03-2021          18:35                  Near Butte, Alaska   \n",
       "5004  5004  21-05-2021          18:00                Near Kaduna, Nigeria   \n",
       "5005  5005  10-06-2021          08:00          Near Pyin Oo Lwin, Myanmar   \n",
       "5006  5006  04-07-2021            NaN          Patikul, Sulu, Philippines   \n",
       "5007  5007  06-07-2021          15:00                      Palana, Russia   \n",
       "\n",
       "                             Operador Numero_de_vuelo  \\\n",
       "0                Military - U.S. Army               0   \n",
       "1                                <NA>               0   \n",
       "2                Military - U.S. Navy               0   \n",
       "3                             Private               0   \n",
       "4              Military - German Navy               0   \n",
       "...                               ...             ...   \n",
       "5003                Soloy Helicopters               0   \n",
       "5004    Military - Nigerian Air Force               0   \n",
       "5005     Military - Myanmar Air Force               0   \n",
       "5006  Military - Philippine Air Force               0   \n",
       "5007    Kamchatka Aviation Enterprise             251   \n",
       "\n",
       "                        Tipo_vuelo                 Tipos_Aeronave  \\\n",
       "0                    Demonstration               Wright Flyer III   \n",
       "1                         Air show                 Wright Byplane   \n",
       "2                      Test flight                      Dirigible   \n",
       "3                             <NA>               Curtiss seaplane   \n",
       "4                             <NA>         Zeppelin L-1 (airship)   \n",
       "...                            ...                            ...   \n",
       "5003           Sightseeing Charter    Eurocopter AS350B3 Ecureuil   \n",
       "5004                          <NA>  Beechcraft B300 King Air 350i   \n",
       "5005          Naypyidaw - Anisakan               Beechcraft 1900D   \n",
       "5006  Cagayan de Oro-Lumbia - Jolo       Lockheed C-130H Hercules   \n",
       "5007        Petropavlovsk - Palana             Antonov An 26B-100   \n",
       "\n",
       "     Registro_aeronave Numero_de_serie  Personas_a_bordo  Pasajeros_a_bordo  \\\n",
       "0                 <NA>               1                 2                  1   \n",
       "1                  SC1               0                 1                  0   \n",
       "2                 <NA>               0                 5                  0   \n",
       "3                 <NA>               0                 1                  0   \n",
       "4                 <NA>               0                20                  0   \n",
       "...                ...             ...               ...                ...   \n",
       "5003            N351SH            4598                 6                  5   \n",
       "5004            NAF203          FL-891                11                  7   \n",
       "5005              4610           E-325                14                 12   \n",
       "5006              5125            5125                96                 88   \n",
       "5007          RA-26085           12310                28                 22   \n",
       "\n",
       "      Tripulacion_a_bordo  Total_de_fallecidos  Pasajeros_fallecidos  \\\n",
       "0                       1                    1                     1   \n",
       "1                       1                    1                     0   \n",
       "2                       5                    5                     0   \n",
       "3                       1                    1                     0   \n",
       "4                       0                   14                     0   \n",
       "...                   ...                  ...                   ...   \n",
       "5003                    1                    5                     4   \n",
       "5004                    4                   11                     7   \n",
       "5005                    2                   12                    11   \n",
       "5006                    8                   50                     0   \n",
       "5007                    6                   28                    22   \n",
       "\n",
       "      Tripulacion_fallecida  Muertos_en_tirra  \\\n",
       "0                         0                 0   \n",
       "1                         0                 0   \n",
       "2                         5                 0   \n",
       "3                         1                 0   \n",
       "4                         0                 0   \n",
       "...                     ...               ...   \n",
       "5003                      1                 0   \n",
       "5004                      4                 0   \n",
       "5005                      1                 0   \n",
       "5006                      0                 3   \n",
       "5007                      6                 0   \n",
       "\n",
       "                                 Descripcion_del_evento  \n",
       "0     During a demonstration flight, a U.S. Army fly...  \n",
       "1     Eugene Lefebvre was the first pilot to ever be...  \n",
       "2     First U.S. dirigible Akron exploded just offsh...  \n",
       "3     The first fatal airplane accident in Canada oc...  \n",
       "4     The airship flew into a thunderstorm and encou...  \n",
       "...                                                 ...  \n",
       "5003  The sightseeing helicopter crashed after missi...  \n",
       "5004  While on final approach, in poor weather condi...  \n",
       "5005  The plane was carrying military personnel and ...  \n",
       "5006  While attempting to land at Jolo Airport, the ...  \n",
       "5007  The passenger plane crashed into the top of a ...  \n",
       "\n",
       "[5008 rows x 18 columns]"
      ]
     },
     "execution_count": 273,
     "metadata": {},
     "output_type": "execute_result"
    }
   ],
   "source": [
    "df_Accidentes"
   ]
  },
  {
   "cell_type": "markdown",
   "metadata": {},
   "source": [
    "Buscamos y calculamos los valores faltantes"
   ]
  },
  {
   "cell_type": "code",
   "execution_count": 274,
   "metadata": {},
   "outputs": [],
   "source": [
    "missing_percentage = (df_Accidentes.isnull().mean() * 100).round(2)"
   ]
  },
  {
   "cell_type": "code",
   "execution_count": 275,
   "metadata": {},
   "outputs": [
    {
     "data": {
      "text/plain": [
       "ID                         0.00\n",
       "fecha                      0.00\n",
       "hora_declarada            34.37\n",
       "Origen_vuelo               0.10\n",
       "Operador                   0.20\n",
       "Numero_de_vuelo            0.00\n",
       "Tipo_vuelo                15.22\n",
       "Tipos_Aeronave             0.26\n",
       "Registro_aeronave          5.43\n",
       "Numero_de_serie            0.00\n",
       "Personas_a_bordo           0.00\n",
       "Pasajeros_a_bordo          0.00\n",
       "Tripulacion_a_bordo        0.00\n",
       "Total_de_fallecidos        0.00\n",
       "Pasajeros_fallecidos       0.00\n",
       "Tripulacion_fallecida      0.00\n",
       "Muertos_en_tirra           0.00\n",
       "Descripcion_del_evento     1.18\n",
       "dtype: float64"
      ]
     },
     "execution_count": 275,
     "metadata": {},
     "output_type": "execute_result"
    }
   ],
   "source": [
    "missing_percentage"
   ]
  },
  {
   "cell_type": "markdown",
   "metadata": {},
   "source": [
    "Creo un grafico de barra para visibilizar de mejor manera los faltantes y donde se concentran"
   ]
  },
  {
   "cell_type": "code",
   "execution_count": 276,
   "metadata": {},
   "outputs": [
    {
     "data": {
      "image/png": "[encoded data removed]",
      "text/plain": [
       "<Figure size 1200x600 with 1 Axes>"
      ]
     },
     "metadata": {},
     "output_type": "display_data"
    }
   ],
   "source": [
    "plt.figure(figsize=(12, 6))\n",
    "sns.barplot(x=missing_percentage.index, y=missing_percentage.values)\n",
    "plt.title('Porcentaje de Valores Faltantes por Columna')\n",
    "plt.xlabel('Columnas')\n",
    "plt.ylabel('Porcentaje de Valores Faltantes')\n",
    "plt.xticks(rotation=90)\n",
    "plt.show()"
   ]
  },
  {
   "cell_type": "code",
   "execution_count": 277,
   "metadata": {},
   "outputs": [
    {
     "name": "stderr",
     "output_type": "stream",
     "text": [
      "C:\\Users\\WINDOWS\\AppData\\Local\\Temp\\ipykernel_14556\\3315493790.py:1: FutureWarning: The default value of numeric_only in DataFrame.sum is deprecated. In a future version, it will default to False. In addition, specifying 'numeric_only=None' is deprecated. Select only valid columns or specify the value of numeric_only to silence this warning.\n",
      "  df_Accidentes.sum()\n"
     ]
    },
    {
     "data": {
      "text/plain": [
       "ID                                                                12537528\n",
       "fecha                    17-09-190807-09-190912-07-191206-08-191309-09-...\n",
       "Personas_a_bordo                                                    155326\n",
       "Pasajeros_a_bordo                                                   128662\n",
       "Tripulacion_a_bordo                                                  21644\n",
       "Total_de_fallecidos                                                 111470\n",
       "Pasajeros_fallecidos                                                 90404\n",
       "Tripulacion_fallecida                                                17122\n",
       "Muertos_en_tirra                                                      8530\n",
       "dtype: object"
      ]
     },
     "execution_count": 277,
     "metadata": {},
     "output_type": "execute_result"
    }
   ],
   "source": [
    "df_Accidentes.sum()"
   ]
  },
  {
   "cell_type": "markdown",
   "metadata": {},
   "source": [
    "Elimino las columnas que no necesitare"
   ]
  },
  {
   "cell_type": "code",
   "execution_count": 278,
   "metadata": {},
   "outputs": [],
   "source": [
    "df_Accidentes = df_Accidentes.drop([\"Numero_de_vuelo\",\"Registro_aeronave\",\"Numero_de_serie\",\"Descripcion_del_evento\"],axis=1)"
   ]
  },
  {
   "cell_type": "markdown",
   "metadata": {},
   "source": [
    "Realizo un análisis estadístico básico para identificar outliers en columnas numéricas"
   ]
  },
  {
   "cell_type": "code",
   "execution_count": 279,
   "metadata": {},
   "outputs": [
    {
     "data": {
      "text/plain": [
       "<Figure size 1200x600 with 0 Axes>"
      ]
     },
     "execution_count": 279,
     "metadata": {},
     "output_type": "execute_result"
    },
    {
     "data": {
      "text/plain": [
       "<Figure size 1200x600 with 0 Axes>"
      ]
     },
     "metadata": {},
     "output_type": "display_data"
    }
   ],
   "source": [
    "columnas_numericas = df_Accidentes.select_dtypes(include=['int64', 'float64']).columns\n",
    "plt.figure(figsize=(12, 6))"
   ]
  },
  {
   "cell_type": "code",
   "execution_count": 280,
   "metadata": {},
   "outputs": [
    {
     "data": {
      "image/png": "[encoded data removed]",
      "text/plain": [
       "<Figure size 640x480 with 1 Axes>"
      ]
     },
     "metadata": {},
     "output_type": "display_data"
    },
    {
     "data": {
      "image/png": "[encoded data removed]",
      "text/plain": [
       "<Figure size 640x480 with 1 Axes>"
      ]
     },
     "metadata": {},
     "output_type": "display_data"
    },
    {
     "data": {
      "image/png": "[encoded data removed]",
      "text/plain": [
       "<Figure size 640x480 with 1 Axes>"
      ]
     },
     "metadata": {},
     "output_type": "display_data"
    },
    {
     "data": {
      "image/png": "[encoded data removed]",
      "text/plain": [
       "<Figure size 640x480 with 1 Axes>"
      ]
     },
     "metadata": {},
     "output_type": "display_data"
    },
    {
     "data": {
      "image/png": "[encoded data removed]",
      "text/plain": [
       "<Figure size 640x480 with 1 Axes>"
      ]
     },
     "metadata": {},
     "output_type": "display_data"
    },
    {
     "data": {
      "image/png": "[encoded data removed]",
      "text/plain": [
       "<Figure size 640x480 with 1 Axes>"
      ]
     },
     "metadata": {},
     "output_type": "display_data"
    },
    {
     "data": {
      "image/png": "[encoded data removed]",
      "text/plain": [
       "<Figure size 640x480 with 1 Axes>"
      ]
     },
     "metadata": {},
     "output_type": "display_data"
    },
    {
     "data": {
      "image/png": "[encoded data removed]",
      "text/plain": [
       "<Figure size 640x480 with 1 Axes>"
      ]
     },
     "metadata": {},
     "output_type": "display_data"
    }
   ],
   "source": [
    "for column in columnas_numericas:\n",
    "    sns.boxplot(data=df_Accidentes, y=column)\n",
    "    plt.title(f'Distribución de {column}')\n",
    "    plt.ylabel(column)\n",
    "    plt.show()"
   ]
  },
  {
   "cell_type": "code",
   "execution_count": 281,
   "metadata": {},
   "outputs": [
    {
     "name": "stdout",
     "output_type": "stream",
     "text": [
      "Número de registros duplicados: 0\n"
     ]
    }
   ],
   "source": [
    "duplicates = df_Accidentes[df_Accidentes.duplicated(keep='first')]\n",
    "print(f'Número de registros duplicados: {len(duplicates)}')\n",
    "df_Accidentes = df_Accidentes.drop_duplicates(keep='first')"
   ]
  },
  {
   "cell_type": "code",
   "execution_count": 282,
   "metadata": {},
   "outputs": [
    {
     "data": {
      "text/html": [
       "<div>\n",
       "<style scoped>\n",
       "    .dataframe tbody tr th:only-of-type {\n",
       "        vertical-align: middle;\n",
       "    }\n",
       "\n",
       "    .dataframe tbody tr th {\n",
       "        vertical-align: top;\n",
       "    }\n",
       "\n",
       "    .dataframe thead th {\n",
       "        text-align: right;\n",
       "    }\n",
       "</style>\n",
       "<table border=\"1\" class=\"dataframe\">\n",
       "  <thead>\n",
       "    <tr style=\"text-align: right;\">\n",
       "      <th></th>\n",
       "      <th>ID</th>\n",
       "      <th>Personas_a_bordo</th>\n",
       "      <th>Pasajeros_a_bordo</th>\n",
       "      <th>Tripulacion_a_bordo</th>\n",
       "      <th>Total_de_fallecidos</th>\n",
       "      <th>Pasajeros_fallecidos</th>\n",
       "      <th>Tripulacion_fallecida</th>\n",
       "      <th>Muertos_en_tirra</th>\n",
       "    </tr>\n",
       "  </thead>\n",
       "  <tbody>\n",
       "    <tr>\n",
       "      <th>count</th>\n",
       "      <td>5008.000000</td>\n",
       "      <td>5008.000000</td>\n",
       "      <td>5008.000000</td>\n",
       "      <td>5008.000000</td>\n",
       "      <td>5008.000000</td>\n",
       "      <td>5008.000000</td>\n",
       "      <td>5008.000000</td>\n",
       "      <td>5008.000000</td>\n",
       "    </tr>\n",
       "    <tr>\n",
       "      <th>mean</th>\n",
       "      <td>2503.500000</td>\n",
       "      <td>31.015575</td>\n",
       "      <td>25.691294</td>\n",
       "      <td>4.321885</td>\n",
       "      <td>22.258387</td>\n",
       "      <td>18.051917</td>\n",
       "      <td>3.418930</td>\n",
       "      <td>1.703275</td>\n",
       "    </tr>\n",
       "    <tr>\n",
       "      <th>std</th>\n",
       "      <td>1445.829404</td>\n",
       "      <td>45.438768</td>\n",
       "      <td>43.405075</td>\n",
       "      <td>3.789422</td>\n",
       "      <td>34.983747</td>\n",
       "      <td>33.496574</td>\n",
       "      <td>3.193296</td>\n",
       "      <td>55.251400</td>\n",
       "    </tr>\n",
       "    <tr>\n",
       "      <th>min</th>\n",
       "      <td>0.000000</td>\n",
       "      <td>0.000000</td>\n",
       "      <td>0.000000</td>\n",
       "      <td>0.000000</td>\n",
       "      <td>0.000000</td>\n",
       "      <td>0.000000</td>\n",
       "      <td>0.000000</td>\n",
       "      <td>0.000000</td>\n",
       "    </tr>\n",
       "    <tr>\n",
       "      <th>25%</th>\n",
       "      <td>1251.750000</td>\n",
       "      <td>6.000000</td>\n",
       "      <td>2.000000</td>\n",
       "      <td>2.000000</td>\n",
       "      <td>4.000000</td>\n",
       "      <td>0.000000</td>\n",
       "      <td>1.000000</td>\n",
       "      <td>0.000000</td>\n",
       "    </tr>\n",
       "    <tr>\n",
       "      <th>50%</th>\n",
       "      <td>2503.500000</td>\n",
       "      <td>16.000000</td>\n",
       "      <td>11.000000</td>\n",
       "      <td>3.000000</td>\n",
       "      <td>11.000000</td>\n",
       "      <td>7.000000</td>\n",
       "      <td>3.000000</td>\n",
       "      <td>0.000000</td>\n",
       "    </tr>\n",
       "    <tr>\n",
       "      <th>75%</th>\n",
       "      <td>3755.250000</td>\n",
       "      <td>34.250000</td>\n",
       "      <td>29.000000</td>\n",
       "      <td>6.000000</td>\n",
       "      <td>25.000000</td>\n",
       "      <td>20.000000</td>\n",
       "      <td>5.000000</td>\n",
       "      <td>0.000000</td>\n",
       "    </tr>\n",
       "    <tr>\n",
       "      <th>max</th>\n",
       "      <td>5007.000000</td>\n",
       "      <td>644.000000</td>\n",
       "      <td>614.000000</td>\n",
       "      <td>83.000000</td>\n",
       "      <td>583.000000</td>\n",
       "      <td>560.000000</td>\n",
       "      <td>43.000000</td>\n",
       "      <td>2750.000000</td>\n",
       "    </tr>\n",
       "  </tbody>\n",
       "</table>\n",
       "</div>"
      ],
      "text/plain": [
       "                ID  Personas_a_bordo  Pasajeros_a_bordo  Tripulacion_a_bordo  \\\n",
       "count  5008.000000       5008.000000        5008.000000          5008.000000   \n",
       "mean   2503.500000         31.015575          25.691294             4.321885   \n",
       "std    1445.829404         45.438768          43.405075             3.789422   \n",
       "min       0.000000          0.000000           0.000000             0.000000   \n",
       "25%    1251.750000          6.000000           2.000000             2.000000   \n",
       "50%    2503.500000         16.000000          11.000000             3.000000   \n",
       "75%    3755.250000         34.250000          29.000000             6.000000   \n",
       "max    5007.000000        644.000000         614.000000            83.000000   \n",
       "\n",
       "       Total_de_fallecidos  Pasajeros_fallecidos  Tripulacion_fallecida  \\\n",
       "count          5008.000000           5008.000000            5008.000000   \n",
       "mean             22.258387             18.051917               3.418930   \n",
       "std              34.983747             33.496574               3.193296   \n",
       "min               0.000000              0.000000               0.000000   \n",
       "25%               4.000000              0.000000               1.000000   \n",
       "50%              11.000000              7.000000               3.000000   \n",
       "75%              25.000000             20.000000               5.000000   \n",
       "max             583.000000            560.000000              43.000000   \n",
       "\n",
       "       Muertos_en_tirra  \n",
       "count       5008.000000  \n",
       "mean           1.703275  \n",
       "std           55.251400  \n",
       "min            0.000000  \n",
       "25%            0.000000  \n",
       "50%            0.000000  \n",
       "75%            0.000000  \n",
       "max         2750.000000  "
      ]
     },
     "execution_count": 282,
     "metadata": {},
     "output_type": "execute_result"
    }
   ],
   "source": [
    "df_Accidentes.describe()"
   ]
  },
  {
   "cell_type": "code",
   "execution_count": 283,
   "metadata": {},
   "outputs": [
    {
     "name": "stderr",
     "output_type": "stream",
     "text": [
      "C:\\Users\\WINDOWS\\AppData\\Local\\Temp\\ipykernel_14556\\400914965.py:1: FutureWarning: The default value of numeric_only in DataFrame.corr is deprecated. In a future version, it will default to False. Select only valid columns or specify the value of numeric_only to silence this warning.\n",
      "  correlation_matrix = df_Accidentes.corr()\n"
     ]
    },
    {
     "data": {
      "text/html": [
       "<div>\n",
       "<style scoped>\n",
       "    .dataframe tbody tr th:only-of-type {\n",
       "        vertical-align: middle;\n",
       "    }\n",
       "\n",
       "    .dataframe tbody tr th {\n",
       "        vertical-align: top;\n",
       "    }\n",
       "\n",
       "    .dataframe thead th {\n",
       "        text-align: right;\n",
       "    }\n",
       "</style>\n",
       "<table border=\"1\" class=\"dataframe\">\n",
       "  <thead>\n",
       "    <tr style=\"text-align: right;\">\n",
       "      <th></th>\n",
       "      <th>ID</th>\n",
       "      <th>Personas_a_bordo</th>\n",
       "      <th>Pasajeros_a_bordo</th>\n",
       "      <th>Tripulacion_a_bordo</th>\n",
       "      <th>Total_de_fallecidos</th>\n",
       "      <th>Pasajeros_fallecidos</th>\n",
       "      <th>Tripulacion_fallecida</th>\n",
       "      <th>Muertos_en_tirra</th>\n",
       "    </tr>\n",
       "  </thead>\n",
       "  <tbody>\n",
       "    <tr>\n",
       "      <th>ID</th>\n",
       "      <td>1.000000</td>\n",
       "      <td>0.214020</td>\n",
       "      <td>0.216757</td>\n",
       "      <td>0.095462</td>\n",
       "      <td>0.162641</td>\n",
       "      <td>0.165355</td>\n",
       "      <td>0.067782</td>\n",
       "      <td>0.029150</td>\n",
       "    </tr>\n",
       "    <tr>\n",
       "      <th>Personas_a_bordo</th>\n",
       "      <td>0.214020</td>\n",
       "      <td>1.000000</td>\n",
       "      <td>0.985388</td>\n",
       "      <td>0.555455</td>\n",
       "      <td>0.739870</td>\n",
       "      <td>0.738524</td>\n",
       "      <td>0.315878</td>\n",
       "      <td>0.020420</td>\n",
       "    </tr>\n",
       "    <tr>\n",
       "      <th>Pasajeros_a_bordo</th>\n",
       "      <td>0.216757</td>\n",
       "      <td>0.985388</td>\n",
       "      <td>1.000000</td>\n",
       "      <td>0.521004</td>\n",
       "      <td>0.732902</td>\n",
       "      <td>0.749928</td>\n",
       "      <td>0.291456</td>\n",
       "      <td>0.019255</td>\n",
       "    </tr>\n",
       "    <tr>\n",
       "      <th>Tripulacion_a_bordo</th>\n",
       "      <td>0.095462</td>\n",
       "      <td>0.555455</td>\n",
       "      <td>0.521004</td>\n",
       "      <td>1.000000</td>\n",
       "      <td>0.432651</td>\n",
       "      <td>0.407597</td>\n",
       "      <td>0.733385</td>\n",
       "      <td>0.032053</td>\n",
       "    </tr>\n",
       "    <tr>\n",
       "      <th>Total_de_fallecidos</th>\n",
       "      <td>0.162641</td>\n",
       "      <td>0.739870</td>\n",
       "      <td>0.732902</td>\n",
       "      <td>0.432651</td>\n",
       "      <td>1.000000</td>\n",
       "      <td>0.983890</td>\n",
       "      <td>0.559275</td>\n",
       "      <td>0.032473</td>\n",
       "    </tr>\n",
       "    <tr>\n",
       "      <th>Pasajeros_fallecidos</th>\n",
       "      <td>0.165355</td>\n",
       "      <td>0.738524</td>\n",
       "      <td>0.749928</td>\n",
       "      <td>0.407597</td>\n",
       "      <td>0.983890</td>\n",
       "      <td>1.000000</td>\n",
       "      <td>0.516309</td>\n",
       "      <td>0.030480</td>\n",
       "    </tr>\n",
       "    <tr>\n",
       "      <th>Tripulacion_fallecida</th>\n",
       "      <td>0.067782</td>\n",
       "      <td>0.315878</td>\n",
       "      <td>0.291456</td>\n",
       "      <td>0.733385</td>\n",
       "      <td>0.559275</td>\n",
       "      <td>0.516309</td>\n",
       "      <td>1.000000</td>\n",
       "      <td>0.043503</td>\n",
       "    </tr>\n",
       "    <tr>\n",
       "      <th>Muertos_en_tirra</th>\n",
       "      <td>0.029150</td>\n",
       "      <td>0.020420</td>\n",
       "      <td>0.019255</td>\n",
       "      <td>0.032053</td>\n",
       "      <td>0.032473</td>\n",
       "      <td>0.030480</td>\n",
       "      <td>0.043503</td>\n",
       "      <td>1.000000</td>\n",
       "    </tr>\n",
       "  </tbody>\n",
       "</table>\n",
       "</div>"
      ],
      "text/plain": [
       "                             ID  Personas_a_bordo  Pasajeros_a_bordo  \\\n",
       "ID                     1.000000          0.214020           0.216757   \n",
       "Personas_a_bordo       0.214020          1.000000           0.985388   \n",
       "Pasajeros_a_bordo      0.216757          0.985388           1.000000   \n",
       "Tripulacion_a_bordo    0.095462          0.555455           0.521004   \n",
       "Total_de_fallecidos    0.162641          0.739870           0.732902   \n",
       "Pasajeros_fallecidos   0.165355          0.738524           0.749928   \n",
       "Tripulacion_fallecida  0.067782          0.315878           0.291456   \n",
       "Muertos_en_tirra       0.029150          0.020420           0.019255   \n",
       "\n",
       "                       Tripulacion_a_bordo  Total_de_fallecidos  \\\n",
       "ID                                0.095462             0.162641   \n",
       "Personas_a_bordo                  0.555455             0.739870   \n",
       "Pasajeros_a_bordo                 0.521004             0.732902   \n",
       "Tripulacion_a_bordo               1.000000             0.432651   \n",
       "Total_de_fallecidos               0.432651             1.000000   \n",
       "Pasajeros_fallecidos              0.407597             0.983890   \n",
       "Tripulacion_fallecida             0.733385             0.559275   \n",
       "Muertos_en_tirra                  0.032053             0.032473   \n",
       "\n",
       "                       Pasajeros_fallecidos  Tripulacion_fallecida  \\\n",
       "ID                                 0.165355               0.067782   \n",
       "Personas_a_bordo                   0.738524               0.315878   \n",
       "Pasajeros_a_bordo                  0.749928               0.291456   \n",
       "Tripulacion_a_bordo                0.407597               0.733385   \n",
       "Total_de_fallecidos                0.983890               0.559275   \n",
       "Pasajeros_fallecidos               1.000000               0.516309   \n",
       "Tripulacion_fallecida              0.516309               1.000000   \n",
       "Muertos_en_tirra                   0.030480               0.043503   \n",
       "\n",
       "                       Muertos_en_tirra  \n",
       "ID                             0.029150  \n",
       "Personas_a_bordo               0.020420  \n",
       "Pasajeros_a_bordo              0.019255  \n",
       "Tripulacion_a_bordo            0.032053  \n",
       "Total_de_fallecidos            0.032473  \n",
       "Pasajeros_fallecidos           0.030480  \n",
       "Tripulacion_fallecida          0.043503  \n",
       "Muertos_en_tirra               1.000000  "
      ]
     },
     "execution_count": 283,
     "metadata": {},
     "output_type": "execute_result"
    }
   ],
   "source": [
    "correlation_matrix = df_Accidentes.corr()\n",
    "correlation_matrix"
   ]
  },
  {
   "cell_type": "markdown",
   "metadata": {},
   "source": [
    "Creo la columna año para que se me facilite el calculo"
   ]
  },
  {
   "cell_type": "code",
   "execution_count": 284,
   "metadata": {},
   "outputs": [],
   "source": [
    "df_Accidentes['año'] = pd.to_datetime(df_Accidentes['fecha'], format='%d-%m-%Y').dt.year"
   ]
  },
  {
   "cell_type": "markdown",
   "metadata": {},
   "source": [
    "Calculó la suma total de fallecidos en la tripulación y la suma total de accidentes aéreos para la década anterior."
   ]
  },
  {
   "cell_type": "code",
   "execution_count": 285,
   "metadata": {},
   "outputs": [],
   "source": [
    "tripulacion_fallecida_decada_anterior = df_Accidentes[(df_Accidentes['año'] >= 2001) & (df_Accidentes['año'] <= 2010)]['Tripulacion_fallecida'].sum()\n",
    "accidentes_decada_anterior = len(df_Accidentes[(df_Accidentes['año'] >= 2001) & (df_Accidentes['año'] <= 2010)])"
   ]
  },
  {
   "cell_type": "markdown",
   "metadata": {},
   "source": [
    "Calculó la suma total de fallecidos en la tripulación y la suma total de accidentes aéreos para los últimos 10 años."
   ]
  },
  {
   "cell_type": "code",
   "execution_count": 286,
   "metadata": {},
   "outputs": [],
   "source": [
    "tripulacion_fallecida_ultimos_10_anios = df_Accidentes[df_Accidentes['año'] >= 2011]['Tripulacion_fallecida'].sum()\n",
    "accidentes_ultimos_10_anios = len(df_Accidentes[df_Accidentes['año'] >= 2011])"
   ]
  },
  {
   "cell_type": "markdown",
   "metadata": {},
   "source": [
    "Calculó la tasa de fatalidad de la década anterior y de los últimos 10 años."
   ]
  },
  {
   "cell_type": "code",
   "execution_count": 287,
   "metadata": {},
   "outputs": [],
   "source": [
    "tasa_fatalidad_decada_anterior = tripulacion_fallecida_decada_anterior / accidentes_decada_anterior\n",
    "tasa_fatalidad_ultimos_10_anios = tripulacion_fallecida_ultimos_10_anios / accidentes_ultimos_10_anios"
   ]
  },
  {
   "cell_type": "markdown",
   "metadata": {},
   "source": [
    "Calculó el KPI como el porcentaje de cambio en la tasa de fatalidad y lo muestro"
   ]
  },
  {
   "cell_type": "code",
   "execution_count": 288,
   "metadata": {},
   "outputs": [
    {
     "name": "stdout",
     "output_type": "stream",
     "text": [
      "KPI: -12.75%\n"
     ]
    }
   ],
   "source": [
    "kpi = ((tasa_fatalidad_decada_anterior - tasa_fatalidad_ultimos_10_anios) / tasa_fatalidad_decada_anterior) * 100\n",
    "print(f\"KPI: {kpi:.2f}%\")"
   ]
  },
  {
   "cell_type": "markdown",
   "metadata": {},
   "source": [
    "Creo un gráfico para visualizar el KPI."
   ]
  },
  {
   "cell_type": "code",
   "execution_count": 289,
   "metadata": {},
   "outputs": [
    {
     "data": {
      "image/png": "[encoded data removed]",
      "text/plain": [
       "<Figure size 640x480 with 1 Axes>"
      ]
     },
     "metadata": {},
     "output_type": "display_data"
    }
   ],
   "source": [
    "fig, ax = plt.subplots()\n",
    "ax.bar(['Década Anterior', 'Últimos 10 Años'], [tasa_fatalidad_decada_anterior, tasa_fatalidad_ultimos_10_anios])\n",
    "ax.set_ylabel('Tasa de Fatalidad de la Tripulación')\n",
    "plt.title('Comparación de la Tasa de Fatalidad')\n",
    "plt.show()"
   ]
  },
  {
   "cell_type": "code",
   "execution_count": 216,
   "metadata": {},
   "outputs": [],
   "source": [
    "df_Accidentes.to_csv('accidentes_ar.csv', index=False)"
   ]
  }
 ],
 "metadata": {
  "kernelspec": {
   "display_name": "Python 3",
   "language": "python",
   "name": "python3"
  },
  "language_info": {
   "codemirror_mode": {
    "name": "ipython",
    "version": 3
   },
   "file_extension": ".py",
   "mimetype": "text/x-python",
   "name": "python",
   "nbconvert_exporter": "python",
   "pygments_lexer": "ipython3",
   "version": "3.11.6"
  },
  "orig_nbformat": 4
 },
 "nbformat": 4,
 "nbformat_minor": 2
}
